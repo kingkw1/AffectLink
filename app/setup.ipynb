{
 "cells": [
  {
   "cell_type": "code",
   "execution_count": 4,
   "id": "d648bc89-d5db-4bfe-b7da-91746071036b",
   "metadata": {},
   "outputs": [
    {
     "name": "stdout",
     "output_type": "stream",
     "text": [
      "Python 3.12.7\n"
     ]
    }
   ],
   "source": [
    "!python --version"
   ]
  },
  {
   "cell_type": "code",
   "execution_count": 9,
   "id": "44094318-d4bc-4b7b-916b-0fe00a86ca63",
   "metadata": {},
   "outputs": [
    {
     "name": "stdout",
     "output_type": "stream",
     "text": [
      "sudo: apt0-get: command not found\n",
      "Reading package lists... Done\n",
      "Building dependency tree... Done\n",
      "Reading state information... Done\n",
      "libgl1-mesa-glx is already the newest version (23.0.4-0ubuntu1~22.04.1).\n",
      "0 upgraded, 0 newly installed, 0 to remove and 57 not upgraded.\n",
      "Reading package lists... Done\n",
      "Building dependency tree... Done\n",
      "Reading state information... Done\n",
      "libglib2.0-0 is already the newest version (2.72.4-0ubuntu2.4).\n",
      "0 upgraded, 0 newly installed, 0 to remove and 57 not upgraded.\n",
      "Reading package lists... Done\n",
      "Building dependency tree... Done\n",
      "Reading state information... Done\n",
      "libportaudio2 is already the newest version (19.6.0-1.1).\n",
      "0 upgraded, 0 newly installed, 0 to remove and 57 not upgraded.\n"
     ]
    }
   ],
   "source": [
    "!sudo apt0-get update\n",
    "!sudo apt-get install -y libgl1-mesa-glx\n",
    "!sudo apt-get install -y libglib2.0-0\n",
    "!sudo apt-get install libportaudio2"
   ]
  },
  {
   "cell_type": "code",
   "execution_count": 6,
   "id": "9eae2f56-3220-4a05-b455-2a7275832155",
   "metadata": {},
   "outputs": [
    {
     "name": "stdout",
     "output_type": "stream",
     "text": [
      "Requirement already satisfied: opencv-python in /opt/conda/lib/python3.12/site-packages (from -r ../requirements.txt (line 1)) (4.11.0.86)\n",
      "Requirement already satisfied: DeepFace in /opt/conda/lib/python3.12/site-packages (from -r ../requirements.txt (line 2)) (0.0.93)\n",
      "Requirement already satisfied: transformers in /opt/conda/lib/python3.12/site-packages (from -r ../requirements.txt (line 3)) (4.51.3)\n",
      "Requirement already satisfied: whisper in /opt/conda/lib/python3.12/site-packages (from -r ../requirements.txt (line 4)) (1.1.10)\n",
      "Requirement already satisfied: sounddevice in /opt/conda/lib/python3.12/site-packages (from -r ../requirements.txt (line 5)) (0.5.1)\n",
      "Requirement already satisfied: librosa in /opt/conda/lib/python3.12/site-packages (from -r ../requirements.txt (line 6)) (0.11.0)\n",
      "Requirement already satisfied: torch in /opt/conda/lib/python3.12/site-packages (from -r ../requirements.txt (line 7)) (2.4.1+cu124)\n",
      "Requirement already satisfied: torchaudio in /opt/conda/lib/python3.12/site-packages (from -r ../requirements.txt (line 8)) (2.4.1+cu124)\n",
      "Requirement already satisfied: numpy in /opt/conda/lib/python3.12/site-packages (from -r ../requirements.txt (line 9)) (1.26.4)\n",
      "Requirement already satisfied: requests>=2.27.1 in /opt/conda/lib/python3.12/site-packages (from DeepFace->-r ../requirements.txt (line 2)) (2.32.3)\n",
      "Requirement already satisfied: pandas>=0.23.4 in /opt/conda/lib/python3.12/site-packages (from DeepFace->-r ../requirements.txt (line 2)) (2.2.0)\n",
      "Requirement already satisfied: gdown>=3.10.1 in /opt/conda/lib/python3.12/site-packages (from DeepFace->-r ../requirements.txt (line 2)) (5.2.0)\n",
      "Requirement already satisfied: tqdm>=4.30.0 in /opt/conda/lib/python3.12/site-packages (from DeepFace->-r ../requirements.txt (line 2)) (4.66.3)\n",
      "Requirement already satisfied: Pillow>=5.2.0 in /opt/conda/lib/python3.12/site-packages (from DeepFace->-r ../requirements.txt (line 2)) (10.3.0)\n",
      "Requirement already satisfied: tensorflow>=1.9.0 in /opt/conda/lib/python3.12/site-packages (from DeepFace->-r ../requirements.txt (line 2)) (2.18.0)\n",
      "Requirement already satisfied: keras>=2.2.0 in /opt/conda/lib/python3.12/site-packages (from DeepFace->-r ../requirements.txt (line 2)) (3.8.0)\n",
      "Requirement already satisfied: Flask>=1.1.2 in /opt/conda/lib/python3.12/site-packages (from DeepFace->-r ../requirements.txt (line 2)) (3.1.0)\n",
      "Requirement already satisfied: flask-cors>=4.0.1 in /opt/conda/lib/python3.12/site-packages (from DeepFace->-r ../requirements.txt (line 2)) (5.0.1)\n",
      "Requirement already satisfied: mtcnn>=0.1.0 in /opt/conda/lib/python3.12/site-packages (from DeepFace->-r ../requirements.txt (line 2)) (1.0.0)\n",
      "Requirement already satisfied: retina-face>=0.0.1 in /opt/conda/lib/python3.12/site-packages (from DeepFace->-r ../requirements.txt (line 2)) (0.0.17)\n",
      "Requirement already satisfied: fire>=0.4.0 in /opt/conda/lib/python3.12/site-packages (from DeepFace->-r ../requirements.txt (line 2)) (0.7.0)\n",
      "Requirement already satisfied: gunicorn>=20.1.0 in /opt/conda/lib/python3.12/site-packages (from DeepFace->-r ../requirements.txt (line 2)) (22.0.0)\n",
      "Requirement already satisfied: filelock in /opt/conda/lib/python3.12/site-packages (from transformers->-r ../requirements.txt (line 3)) (3.13.1)\n",
      "Requirement already satisfied: huggingface-hub<1.0,>=0.30.0 in /opt/conda/lib/python3.12/site-packages (from transformers->-r ../requirements.txt (line 3)) (0.30.2)\n",
      "Requirement already satisfied: packaging>=20.0 in /opt/conda/lib/python3.12/site-packages (from transformers->-r ../requirements.txt (line 3)) (24.1)\n",
      "Requirement already satisfied: pyyaml>=5.1 in /opt/conda/lib/python3.12/site-packages (from transformers->-r ../requirements.txt (line 3)) (6.0.2)\n",
      "Requirement already satisfied: regex!=2019.12.17 in /opt/conda/lib/python3.12/site-packages (from transformers->-r ../requirements.txt (line 3)) (2024.11.6)\n",
      "Requirement already satisfied: tokenizers<0.22,>=0.21 in /opt/conda/lib/python3.12/site-packages (from transformers->-r ../requirements.txt (line 3)) (0.21.1)\n",
      "Requirement already satisfied: safetensors>=0.4.3 in /opt/conda/lib/python3.12/site-packages (from transformers->-r ../requirements.txt (line 3)) (0.5.3)\n",
      "Requirement already satisfied: six in /opt/conda/lib/python3.12/site-packages (from whisper->-r ../requirements.txt (line 4)) (1.17.0)\n",
      "Requirement already satisfied: CFFI>=1.0 in /opt/conda/lib/python3.12/site-packages (from sounddevice->-r ../requirements.txt (line 5)) (1.17.1)\n",
      "Requirement already satisfied: audioread>=2.1.9 in /opt/conda/lib/python3.12/site-packages (from librosa->-r ../requirements.txt (line 6)) (3.0.1)\n",
      "Requirement already satisfied: numba>=0.51.0 in /opt/conda/lib/python3.12/site-packages (from librosa->-r ../requirements.txt (line 6)) (0.59.0)\n",
      "Requirement already satisfied: scipy>=1.6.0 in /opt/conda/lib/python3.12/site-packages (from librosa->-r ../requirements.txt (line 6)) (1.12.0)\n",
      "Requirement already satisfied: scikit-learn>=1.1.0 in /opt/conda/lib/python3.12/site-packages (from librosa->-r ../requirements.txt (line 6)) (1.5.0)\n",
      "Requirement already satisfied: joblib>=1.0 in /opt/conda/lib/python3.12/site-packages (from librosa->-r ../requirements.txt (line 6)) (1.4.2)\n",
      "Requirement already satisfied: decorator>=4.3.0 in /opt/conda/lib/python3.12/site-packages (from librosa->-r ../requirements.txt (line 6)) (5.1.1)\n",
      "Requirement already satisfied: soundfile>=0.12.1 in /opt/conda/lib/python3.12/site-packages (from librosa->-r ../requirements.txt (line 6)) (0.13.1)\n",
      "Requirement already satisfied: pooch>=1.1 in /opt/conda/lib/python3.12/site-packages (from librosa->-r ../requirements.txt (line 6)) (1.8.2)\n",
      "Requirement already satisfied: soxr>=0.3.2 in /opt/conda/lib/python3.12/site-packages (from librosa->-r ../requirements.txt (line 6)) (0.5.0.post1)\n",
      "Requirement already satisfied: typing_extensions>=4.1.1 in /opt/conda/lib/python3.12/site-packages (from librosa->-r ../requirements.txt (line 6)) (4.12.2)\n",
      "Requirement already satisfied: lazy_loader>=0.1 in /opt/conda/lib/python3.12/site-packages (from librosa->-r ../requirements.txt (line 6)) (0.4)\n",
      "Requirement already satisfied: msgpack>=1.0 in /opt/conda/lib/python3.12/site-packages (from librosa->-r ../requirements.txt (line 6)) (1.1.0)\n",
      "Requirement already satisfied: sympy in /opt/conda/lib/python3.12/site-packages (from torch->-r ../requirements.txt (line 7)) (1.13.1)\n",
      "Requirement already satisfied: networkx in /opt/conda/lib/python3.12/site-packages (from torch->-r ../requirements.txt (line 7)) (3.2.1)\n",
      "Requirement already satisfied: jinja2 in /opt/conda/lib/python3.12/site-packages (from torch->-r ../requirements.txt (line 7)) (3.1.5)\n",
      "Requirement already satisfied: fsspec in /opt/conda/lib/python3.12/site-packages (from torch->-r ../requirements.txt (line 7)) (2024.2.0)\n",
      "Requirement already satisfied: setuptools in /opt/conda/lib/python3.12/site-packages (from torch->-r ../requirements.txt (line 7)) (70.0.0)\n",
      "Requirement already satisfied: nvidia-cuda-nvrtc-cu12==12.4.99 in /opt/conda/lib/python3.12/site-packages (from torch->-r ../requirements.txt (line 7)) (12.4.99)\n",
      "Requirement already satisfied: nvidia-cuda-runtime-cu12==12.4.99 in /opt/conda/lib/python3.12/site-packages (from torch->-r ../requirements.txt (line 7)) (12.4.99)\n",
      "Requirement already satisfied: nvidia-cuda-cupti-cu12==12.4.99 in /opt/conda/lib/python3.12/site-packages (from torch->-r ../requirements.txt (line 7)) (12.4.99)\n",
      "Requirement already satisfied: nvidia-cudnn-cu12==9.1.0.70 in /opt/conda/lib/python3.12/site-packages (from torch->-r ../requirements.txt (line 7)) (9.1.0.70)\n",
      "Requirement already satisfied: nvidia-cublas-cu12==12.4.2.65 in /opt/conda/lib/python3.12/site-packages (from torch->-r ../requirements.txt (line 7)) (12.4.2.65)\n",
      "Requirement already satisfied: nvidia-cufft-cu12==11.2.0.44 in /opt/conda/lib/python3.12/site-packages (from torch->-r ../requirements.txt (line 7)) (11.2.0.44)\n",
      "Requirement already satisfied: nvidia-curand-cu12==10.3.5.119 in /opt/conda/lib/python3.12/site-packages (from torch->-r ../requirements.txt (line 7)) (10.3.5.119)\n",
      "Requirement already satisfied: nvidia-cusolver-cu12==11.6.0.99 in /opt/conda/lib/python3.12/site-packages (from torch->-r ../requirements.txt (line 7)) (11.6.0.99)\n",
      "Requirement already satisfied: nvidia-cusparse-cu12==12.3.0.142 in /opt/conda/lib/python3.12/site-packages (from torch->-r ../requirements.txt (line 7)) (12.3.0.142)\n",
      "Requirement already satisfied: nvidia-nccl-cu12==2.20.5 in /opt/conda/lib/python3.12/site-packages (from torch->-r ../requirements.txt (line 7)) (2.20.5)\n",
      "Requirement already satisfied: nvidia-nvtx-cu12==12.4.99 in /opt/conda/lib/python3.12/site-packages (from torch->-r ../requirements.txt (line 7)) (12.4.99)\n",
      "Requirement already satisfied: nvidia-nvjitlink-cu12==12.4.99 in /opt/conda/lib/python3.12/site-packages (from torch->-r ../requirements.txt (line 7)) (12.4.99)\n",
      "Requirement already satisfied: triton==3.0.0 in /opt/conda/lib/python3.12/site-packages (from torch->-r ../requirements.txt (line 7)) (3.0.0)\n",
      "Requirement already satisfied: pycparser in /opt/conda/lib/python3.12/site-packages (from CFFI>=1.0->sounddevice->-r ../requirements.txt (line 5)) (2.22)\n",
      "Requirement already satisfied: termcolor in /opt/conda/lib/python3.12/site-packages (from fire>=0.4.0->DeepFace->-r ../requirements.txt (line 2)) (2.5.0)\n",
      "Requirement already satisfied: Werkzeug>=3.1 in /opt/conda/lib/python3.12/site-packages (from Flask>=1.1.2->DeepFace->-r ../requirements.txt (line 2)) (3.1.3)\n",
      "Requirement already satisfied: itsdangerous>=2.2 in /opt/conda/lib/python3.12/site-packages (from Flask>=1.1.2->DeepFace->-r ../requirements.txt (line 2)) (2.2.0)\n",
      "Requirement already satisfied: click>=8.1.3 in /opt/conda/lib/python3.12/site-packages (from Flask>=1.1.2->DeepFace->-r ../requirements.txt (line 2)) (8.1.8)\n",
      "Requirement already satisfied: blinker>=1.9 in /opt/conda/lib/python3.12/site-packages (from Flask>=1.1.2->DeepFace->-r ../requirements.txt (line 2)) (1.9.0)\n",
      "Requirement already satisfied: beautifulsoup4 in /opt/conda/lib/python3.12/site-packages (from gdown>=3.10.1->DeepFace->-r ../requirements.txt (line 2)) (4.12.3)\n",
      "Requirement already satisfied: MarkupSafe>=2.0 in /opt/conda/lib/python3.12/site-packages (from jinja2->torch->-r ../requirements.txt (line 7)) (3.0.2)\n",
      "Requirement already satisfied: absl-py in /opt/conda/lib/python3.12/site-packages (from keras>=2.2.0->DeepFace->-r ../requirements.txt (line 2)) (2.1.0)\n",
      "Requirement already satisfied: rich in /opt/conda/lib/python3.12/site-packages (from keras>=2.2.0->DeepFace->-r ../requirements.txt (line 2)) (13.9.4)\n",
      "Requirement already satisfied: namex in /opt/conda/lib/python3.12/site-packages (from keras>=2.2.0->DeepFace->-r ../requirements.txt (line 2)) (0.0.8)\n",
      "Requirement already satisfied: h5py in /opt/conda/lib/python3.12/site-packages (from keras>=2.2.0->DeepFace->-r ../requirements.txt (line 2)) (3.11.0)\n",
      "Requirement already satisfied: optree in /opt/conda/lib/python3.12/site-packages (from keras>=2.2.0->DeepFace->-r ../requirements.txt (line 2)) (0.14.0)\n",
      "Requirement already satisfied: ml-dtypes in /opt/conda/lib/python3.12/site-packages (from keras>=2.2.0->DeepFace->-r ../requirements.txt (line 2)) (0.4.1)\n",
      "Requirement already satisfied: lz4>=4.3.3 in /opt/conda/lib/python3.12/site-packages (from mtcnn>=0.1.0->DeepFace->-r ../requirements.txt (line 2)) (4.4.4)\n",
      "Requirement already satisfied: llvmlite<0.43,>=0.42.0dev0 in /opt/conda/lib/python3.12/site-packages (from numba>=0.51.0->librosa->-r ../requirements.txt (line 6)) (0.42.0)\n",
      "Requirement already satisfied: python-dateutil>=2.8.2 in /opt/conda/lib/python3.12/site-packages (from pandas>=0.23.4->DeepFace->-r ../requirements.txt (line 2)) (2.9.0.post0)\n",
      "Requirement already satisfied: pytz>=2020.1 in /opt/conda/lib/python3.12/site-packages (from pandas>=0.23.4->DeepFace->-r ../requirements.txt (line 2)) (2024.2)\n",
      "Requirement already satisfied: tzdata>=2022.7 in /opt/conda/lib/python3.12/site-packages (from pandas>=0.23.4->DeepFace->-r ../requirements.txt (line 2)) (2024.2)\n",
      "Requirement already satisfied: platformdirs>=2.5.0 in /opt/conda/lib/python3.12/site-packages (from pooch>=1.1->librosa->-r ../requirements.txt (line 6)) (4.3.6)\n",
      "Requirement already satisfied: charset-normalizer<4,>=2 in /opt/conda/lib/python3.12/site-packages (from requests>=2.27.1->DeepFace->-r ../requirements.txt (line 2)) (3.4.0)\n",
      "Requirement already satisfied: idna<4,>=2.5 in /opt/conda/lib/python3.12/site-packages (from requests>=2.27.1->DeepFace->-r ../requirements.txt (line 2)) (3.10)\n",
      "Requirement already satisfied: urllib3<3,>=1.21.1 in /opt/conda/lib/python3.12/site-packages (from requests>=2.27.1->DeepFace->-r ../requirements.txt (line 2)) (2.2.3)\n",
      "Requirement already satisfied: certifi>=2017.4.17 in /opt/conda/lib/python3.12/site-packages (from requests>=2.27.1->DeepFace->-r ../requirements.txt (line 2)) (2024.7.4)\n",
      "Requirement already satisfied: threadpoolctl>=3.1.0 in /opt/conda/lib/python3.12/site-packages (from scikit-learn>=1.1.0->librosa->-r ../requirements.txt (line 6)) (3.5.0)\n",
      "Requirement already satisfied: astunparse>=1.6.0 in /opt/conda/lib/python3.12/site-packages (from tensorflow>=1.9.0->DeepFace->-r ../requirements.txt (line 2)) (1.6.3)\n",
      "Requirement already satisfied: flatbuffers>=24.3.25 in /opt/conda/lib/python3.12/site-packages (from tensorflow>=1.9.0->DeepFace->-r ../requirements.txt (line 2)) (25.1.21)\n",
      "Requirement already satisfied: gast!=0.5.0,!=0.5.1,!=0.5.2,>=0.2.1 in /opt/conda/lib/python3.12/site-packages (from tensorflow>=1.9.0->DeepFace->-r ../requirements.txt (line 2)) (0.6.0)\n",
      "Requirement already satisfied: google-pasta>=0.1.1 in /opt/conda/lib/python3.12/site-packages (from tensorflow>=1.9.0->DeepFace->-r ../requirements.txt (line 2)) (0.2.0)\n",
      "Requirement already satisfied: libclang>=13.0.0 in /opt/conda/lib/python3.12/site-packages (from tensorflow>=1.9.0->DeepFace->-r ../requirements.txt (line 2)) (18.1.1)\n",
      "Requirement already satisfied: opt-einsum>=2.3.2 in /opt/conda/lib/python3.12/site-packages (from tensorflow>=1.9.0->DeepFace->-r ../requirements.txt (line 2)) (3.4.0)\n",
      "Requirement already satisfied: protobuf!=4.21.0,!=4.21.1,!=4.21.2,!=4.21.3,!=4.21.4,!=4.21.5,<6.0.0dev,>=3.20.3 in /opt/conda/lib/python3.12/site-packages (from tensorflow>=1.9.0->DeepFace->-r ../requirements.txt (line 2)) (5.29.3)\n",
      "Requirement already satisfied: wrapt>=1.11.0 in /opt/conda/lib/python3.12/site-packages (from tensorflow>=1.9.0->DeepFace->-r ../requirements.txt (line 2)) (1.17.1)\n",
      "Requirement already satisfied: grpcio<2.0,>=1.24.3 in /opt/conda/lib/python3.12/site-packages (from tensorflow>=1.9.0->DeepFace->-r ../requirements.txt (line 2)) (1.69.0)\n",
      "Requirement already satisfied: tensorboard<2.19,>=2.18 in /opt/conda/lib/python3.12/site-packages (from tensorflow>=1.9.0->DeepFace->-r ../requirements.txt (line 2)) (2.18.0)\n",
      "Requirement already satisfied: mpmath<1.4,>=1.1.0 in /opt/conda/lib/python3.12/site-packages (from sympy->torch->-r ../requirements.txt (line 7)) (1.3.0)\n",
      "Requirement already satisfied: wheel<1.0,>=0.23.0 in /opt/conda/lib/python3.12/site-packages (from astunparse>=1.6.0->tensorflow>=1.9.0->DeepFace->-r ../requirements.txt (line 2)) (0.45.0)\n",
      "Requirement already satisfied: markdown>=2.6.8 in /opt/conda/lib/python3.12/site-packages (from tensorboard<2.19,>=2.18->tensorflow>=1.9.0->DeepFace->-r ../requirements.txt (line 2)) (3.7)\n",
      "Requirement already satisfied: tensorboard-data-server<0.8.0,>=0.7.0 in /opt/conda/lib/python3.12/site-packages (from tensorboard<2.19,>=2.18->tensorflow>=1.9.0->DeepFace->-r ../requirements.txt (line 2)) (0.7.2)\n",
      "Requirement already satisfied: soupsieve>1.2 in /opt/conda/lib/python3.12/site-packages (from beautifulsoup4->gdown>=3.10.1->DeepFace->-r ../requirements.txt (line 2)) (2.5)\n",
      "Requirement already satisfied: PySocks!=1.5.7,>=1.5.6 in /opt/conda/lib/python3.12/site-packages (from requests[socks]->gdown>=3.10.1->DeepFace->-r ../requirements.txt (line 2)) (1.7.1)\n",
      "Requirement already satisfied: markdown-it-py>=2.2.0 in /opt/conda/lib/python3.12/site-packages (from rich->keras>=2.2.0->DeepFace->-r ../requirements.txt (line 2)) (3.0.0)\n",
      "Requirement already satisfied: pygments<3.0.0,>=2.13.0 in /opt/conda/lib/python3.12/site-packages (from rich->keras>=2.2.0->DeepFace->-r ../requirements.txt (line 2)) (2.19.1)\n",
      "Requirement already satisfied: mdurl~=0.1 in /opt/conda/lib/python3.12/site-packages (from markdown-it-py>=2.2.0->rich->keras>=2.2.0->DeepFace->-r ../requirements.txt (line 2)) (0.1.2)\n"
     ]
    }
   ],
   "source": [
    "!pip install -r ../requirements.txt"
   ]
  },
  {
   "cell_type": "code",
   "execution_count": 3,
   "id": "632ea96d-953f-4705-9009-1f99957fb227",
   "metadata": {},
   "outputs": [
    {
     "name": "stdout",
     "output_type": "stream",
     "text": [
      "Mon May  5 16:36:28 2025       \n",
      "+-----------------------------------------------------------------------------------------+\n",
      "| NVIDIA-SMI 570.124.06             Driver Version: 572.70         CUDA Version: 12.8     |\n",
      "|-----------------------------------------+------------------------+----------------------+\n",
      "| GPU  Name                 Persistence-M | Bus-Id          Disp.A | Volatile Uncorr. ECC |\n",
      "| Fan  Temp   Perf          Pwr:Usage/Cap |           Memory-Usage | GPU-Util  Compute M. |\n",
      "|                                         |                        |               MIG M. |\n",
      "|=========================================+========================+======================|\n",
      "|   0  NVIDIA GeForce RTX 3060 Ti     On  |   00000000:01:00.0  On |                  N/A |\n",
      "|  0%   45C    P8             19W /  200W |    4479MiB /   8192MiB |     10%      Default |\n",
      "|                                         |                        |                  N/A |\n",
      "+-----------------------------------------+------------------------+----------------------+\n",
      "                                                                                         \n",
      "+-----------------------------------------------------------------------------------------+\n",
      "| Processes:                                                                              |\n",
      "|  GPU   GI   CI              PID   Type   Process name                        GPU Memory |\n",
      "|        ID   ID                                                               Usage      |\n",
      "|=========================================================================================|\n",
      "|    0   N/A  N/A              60      G   /Xwayland                             N/A      |\n",
      "+-----------------------------------------------------------------------------------------+\n"
     ]
    }
   ],
   "source": [
    "!nvidia-smi"
   ]
  },
  {
   "cell_type": "code",
   "execution_count": 5,
   "id": "583d6162-f631-4525-8bbe-f33feede05e3",
   "metadata": {},
   "outputs": [
    {
     "name": "stdout",
     "output_type": "stream",
     "text": [
      "True\n",
      "1\n",
      "NVIDIA GeForce RTX 3060 Ti\n"
     ]
    }
   ],
   "source": [
    "import torch\n",
    "print(torch.cuda.is_available())\n",
    "print(torch.cuda.device_count())\n",
    "print(torch.cuda.get_device_name(0) if torch.cuda.is_available() else \"No CUDA device\")"
   ]
  },
  {
   "cell_type": "code",
   "execution_count": 10,
   "id": "828da301-f32d-420d-b7f5-b750374e85b1",
   "metadata": {},
   "outputs": [
    {
     "name": "stderr",
     "output_type": "stream",
     "text": [
      "2025-05-05 17:01:46.130894: I tensorflow/core/util/port.cc:153] oneDNN custom operations are on. You may see slightly different numerical results due to floating-point round-off errors from different computation orders. To turn them off, set the environment variable `TF_ENABLE_ONEDNN_OPTS=0`.\n",
      "2025-05-05 17:01:46.145352: E external/local_xla/xla/stream_executor/cuda/cuda_fft.cc:467] Unable to register cuFFT factory: Attempting to register factory for plugin cuFFT when one has already been registered\n",
      "WARNING: All log messages before absl::InitializeLog() is called are written to STDERR\n",
      "E0000 00:00:1746464506.162692    1292 cuda_dnn.cc:8579] Unable to register cuDNN factory: Attempting to register factory for plugin cuDNN when one has already been registered\n",
      "E0000 00:00:1746464506.170316    1292 cuda_blas.cc:1407] Unable to register cuBLAS factory: Attempting to register factory for plugin cuBLAS when one has already been registered\n",
      "W0000 00:00:1746464506.185984    1292 computation_placer.cc:177] computation placer already registered. Please check linkage and avoid linking the same target more than once.\n",
      "W0000 00:00:1746464506.186020    1292 computation_placer.cc:177] computation placer already registered. Please check linkage and avoid linking the same target more than once.\n",
      "W0000 00:00:1746464506.186021    1292 computation_placer.cc:177] computation placer already registered. Please check linkage and avoid linking the same target more than once.\n",
      "W0000 00:00:1746464506.186022    1292 computation_placer.cc:177] computation placer already registered. Please check linkage and avoid linking the same target more than once.\n",
      "2025-05-05 17:01:46.190968: I tensorflow/core/platform/cpu_feature_guard.cc:210] This TensorFlow binary is optimized to use available CPU instructions in performance-critical operations.\n",
      "To enable the following instructions: AVX2 AVX512F AVX512_VNNI FMA, in other operations, rebuild TensorFlow with the appropriate compiler flags.\n"
     ]
    }
   ],
   "source": [
    "import video_emotion\n",
    "import audio_emotion"
   ]
  }
 ],
 "metadata": {
  "kernelspec": {
   "display_name": "Python [conda env:base] *",
   "language": "python",
   "name": "conda-base-py"
  },
  "language_info": {
   "codemirror_mode": {
    "name": "ipython",
    "version": 3
   },
   "file_extension": ".py",
   "mimetype": "text/x-python",
   "name": "python",
   "nbconvert_exporter": "python",
   "pygments_lexer": "ipython3",
   "version": "3.12.7"
  }
 },
 "nbformat": 4,
 "nbformat_minor": 5
}
